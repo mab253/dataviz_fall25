{
  "nbformat": 4,
  "nbformat_minor": 0,
  "metadata": {
    "colab": {
      "provenance": []
    },
    "kernelspec": {
      "name": "python3",
      "display_name": "Python 3"
    },
    "language_info": {
      "name": "python"
    }
  },
  "cells": [
    {
      "cell_type": "code",
      "source": [
        "# import what we need\n",
        "\n",
        "import pandas as pd\n",
        "\n",
        "# we need to load matplotlib!\n",
        "import matplotlib.pyplot as plt\n",
        "%matplotlib inline"
      ],
      "metadata": {
        "id": "8ohZ8qGJUc05"
      },
      "execution_count": null,
      "outputs": []
    },
    {
      "cell_type": "code",
      "execution_count": null,
      "metadata": {
        "id": "KGqFHpx1R7x4"
      },
      "outputs": [],
      "source": [
        "# 🐧🧊 revisiting the palmer penguins dataset!\n",
        "# install the dataset via pip, python package manager\n",
        "!pip install palmerpenguins\n",
        "from palmerpenguins import load_penguins_raw\n",
        "\n",
        "# load dataframe into variable called penguins\n",
        "penguins = load_penguins_raw()"
      ]
    },
    {
      "cell_type": "code",
      "source": [
        "# 📄 documentation cheatsheet!\n",
        "\n",
        "# colors: https://matplotlib.org/stable/gallery/color/named_colors.html (scroll down)\n",
        "\n",
        "# histogram: https://matplotlib.org/stable/api/_as_gen/matplotlib.pyplot.hist.html\n",
        "\n",
        "# pandas functions: https://pandas.pydata.org/docs/reference/general_functions.html\n",
        "\n",
        "# titles: https://matplotlib.org/stable/api/_as_gen/matplotlib.pyplot.title.html\n",
        "\n",
        "# axis labels: https://matplotlib.org/stable/api/_as_gen/matplotlib.pyplot.xlabel.html"
      ],
      "metadata": {
        "id": "e1RgrZolTPJi"
      },
      "execution_count": null,
      "outputs": []
    },
    {
      "cell_type": "code",
      "source": [
        "# warm-up question: how many penguins are on Dream Island?\n",
        "\n"
      ],
      "metadata": {
        "id": "IencsmKrYuXO"
      },
      "execution_count": null,
      "outputs": []
    },
    {
      "cell_type": "code",
      "source": [
        "# how would a print a list of all the UNIQUE values of the \"Species\" column?\n"
      ],
      "metadata": {
        "id": "MvBVTiG1UxqZ"
      },
      "execution_count": null,
      "outputs": []
    },
    {
      "cell_type": "code",
      "source": [
        "# now ... let's plot flipper length vs. body mass, across the whole dataset\n",
        "# 1 line of code, make a scatterplot\n",
        "# flipper length = x-axis, body mass = y-axis\n",
        "\n",
        "# add your code here\n",
        "\n"
      ],
      "metadata": {
        "id": "RtOtHPDkU1Xa"
      },
      "execution_count": null,
      "outputs": []
    },
    {
      "cell_type": "code",
      "source": [
        "# ok ... but now we want to filter the dataset to show 3 species, differentiated\n",
        "\n",
        "# first make a new, smaller dataframe: all rows, just columns flipper length, body mass, and species\n",
        "\n",
        "# add code here\n",
        "\n"
      ],
      "metadata": {
        "id": "2O52pOmhVKyE"
      },
      "execution_count": null,
      "outputs": []
    },
    {
      "cell_type": "code",
      "source": [
        "# now drop any NA missing values in this new dataframe\n",
        "\n"
      ],
      "metadata": {
        "id": "fltLZGydVUt8"
      },
      "execution_count": null,
      "outputs": []
    },
    {
      "cell_type": "code",
      "source": [
        "# NOW make new filtered dataframes for each species:\n",
        "# i.e., an adelie table with only flipper length, body mass, and species\n",
        "# repeat for gentoo and chinstrap\n",
        "# so that we can plot each species with different parameters\n",
        "\n",
        "\n",
        "\n",
        "\n",
        "# test adelie out, using .head() and .tail()\n",
        "# are all the rows the same species?\n"
      ],
      "metadata": {
        "id": "7x3dobcMVu8G"
      },
      "execution_count": null,
      "outputs": []
    },
    {
      "cell_type": "code",
      "source": [
        "plt.figure(figsize=(10, 8))\n",
        "# setting up for a larger figure\n",
        "\n",
        "# use color AND marker channels, to show 3 different species\n",
        "# on the same scatterplot, bill length vs. body mass\n",
        "# documentation for markers: https://matplotlib.org/stable/api/markers_api.html#module-matplotlib.markers\n",
        "\n",
        "\n",
        "# pay close attention to color - is the important information legible?\n",
        "# add legend, labels, and title\n",
        "\n",
        "\n",
        "\n",
        "\n"
      ],
      "metadata": {
        "id": "m_dgkTdAWTbP"
      },
      "execution_count": null,
      "outputs": []
    },
    {
      "cell_type": "code",
      "source": [
        "# what if we wanted to push this in terms of information density, and add ANOTHER attribute?\n",
        "# can you keep this from becoming too busy to understand?\n",
        "\n",
        "# try and create a figure builds on the previous one\n",
        "# that visualizes any fourth attribute\n",
        "# by changing the COLOR channel to represent something other than species\n",
        "\n",
        "# a code pattern for this: instead of writing color = \"Red\", we can:\n",
        "# first make a color palette as a dictionary: palette = {\"My_Value\": \"Red\", \"My_Value2\", \"Green\"}\n",
        "# then in the plt.scatter parameter, use c = df[\"SOME_ATTRIBUTE\"].map(palette)\n",
        "\n",
        "\n",
        "plt.figure(figsize=(10, 8))\n",
        "# code below\n",
        "\n",
        "\n",
        "\n",
        "\n",
        "\n",
        "\n",
        "\n",
        "# write some comments below - what do you think of this visualization?\n",
        "# note: don't worry about the legend for now"
      ],
      "metadata": {
        "id": "98kV8ocwi6cw"
      },
      "execution_count": null,
      "outputs": []
    },
    {
      "cell_type": "code",
      "source": [
        "# now: create a HISTOGRAM, which shows distribution of data, with the BODY MASS data for 3 species\n",
        "# https://matplotlib.org/stable/api/_as_gen/matplotlib.pyplot.hist.html\n",
        "\n",
        "# on the y-axis, a count of the # of penguins\n",
        "# on the x-axis, a measure of body mass (g)\n",
        "\n",
        "# each species should have its own COLOR - choose wisely! (https://matplotlib.org/stable/gallery/color/named_colors.html)\n",
        "# how do the colors look next to each other? (Albers)\n",
        "\n",
        "# make sure to add a LEGEND and a title to the histogram\n",
        "\n"
      ],
      "metadata": {
        "id": "kvjvupYaXJTf"
      },
      "execution_count": null,
      "outputs": []
    },
    {
      "cell_type": "code",
      "source": [
        "# create 2-3 more drafts of your HISTOGRAM, using the same data, legend, title, etc. (BODY MASS for 3 species)\n",
        "# color should be the only thing you change\n",
        "# how does changing the transparency with alpha or line color with edgecolor make a difference?\n",
        "\n",
        "# experiment here, are there other groups of 3 colors that make the visualization strong?\n",
        "# are there some that are weak?\n",
        "\n",
        "# code for 2nd histogram below:\n",
        "\n",
        "\n",
        "\n"
      ],
      "metadata": {
        "id": "1ZxR1bEHbJKd"
      },
      "execution_count": null,
      "outputs": []
    },
    {
      "cell_type": "code",
      "source": [
        "# code for 3rd histogram below:\n",
        "\n",
        "\n",
        "\n"
      ],
      "metadata": {
        "id": "74t6B1swzuzJ"
      },
      "execution_count": null,
      "outputs": []
    },
    {
      "cell_type": "code",
      "source": [
        "# create a bar chart, with (at least) 2 variables of your choice\n",
        "# (how will you get the counts for the y-axis?)\n",
        "# make sure to clean up: label your axes and add a title 🎨"
      ],
      "metadata": {
        "id": "m2RfS9Lmbe16"
      },
      "execution_count": null,
      "outputs": []
    },
    {
      "cell_type": "markdown",
      "source": [
        "## 🪼 when you are finished! submit: 🖇️\n",
        "\n",
        "1. Download this notebook as an `.ipynb` file (File -> Download)\n",
        "2. Go to [this link](https://airtable.com/app8wCIzUG0DBWhOq/shr0qd48tfTV92lza) and upload the file via the form.\n",
        "3. Then you're done! In-class labs are counted as participation credit."
      ],
      "metadata": {
        "id": "tOcPMP2Z49kP"
      }
    }
  ]
}