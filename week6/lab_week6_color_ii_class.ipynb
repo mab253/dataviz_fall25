{
  "nbformat": 4,
  "nbformat_minor": 0,
  "metadata": {
    "colab": {
      "provenance": []
    },
    "kernelspec": {
      "name": "python3",
      "display_name": "Python 3"
    },
    "language_info": {
      "name": "python"
    }
  },
  "cells": [
    {
      "cell_type": "code",
      "source": [
        "## 🍁 fall 25! ##"
      ],
      "metadata": {
        "id": "GXTjueOQ_Seg"
      },
      "execution_count": null,
      "outputs": []
    },
    {
      "cell_type": "code",
      "execution_count": null,
      "metadata": {
        "id": "4o0e-2wLAxpr"
      },
      "outputs": [],
      "source": [
        "# 🐧🧊 revisiting the palmer penguins dataset!\n",
        "# install the dataset via pip, python package manager\n",
        "!pip install palmerpenguins\n",
        "from palmerpenguins import load_penguins_raw\n",
        "\n",
        "# load dataframe into variable called penguins\n",
        "penguins = load_penguins_raw()"
      ]
    },
    {
      "cell_type": "code",
      "source": [
        "# let's add pandas too\n",
        "# run this cell\n",
        "\n",
        "import pandas as pd"
      ],
      "metadata": {
        "id": "lmt03E2zBMR1"
      },
      "execution_count": null,
      "outputs": []
    },
    {
      "cell_type": "code",
      "source": [
        "# give yourself a preview of the first 5 rows with .head()\n",
        "\n",
        "\n"
      ],
      "metadata": {
        "id": "DrXnKv_LOBpw"
      },
      "execution_count": null,
      "outputs": []
    },
    {
      "cell_type": "code",
      "source": [
        "# use the .drop() function to get rid of these columns:\n",
        "# Sample Number, Delta 15 N (o/oo), Delta 13 C (o/oo)\n",
        "\n",
        "\n",
        "\n",
        "\n",
        "# then check with .head(1) that these have been removed"
      ],
      "metadata": {
        "id": "sakqyyRLOIB4"
      },
      "execution_count": null,
      "outputs": []
    },
    {
      "cell_type": "code",
      "source": [
        "# get a list of all the UNIQUE penguin species from the Species column\n",
        "# print this out\n",
        "\n",
        "\n"
      ],
      "metadata": {
        "id": "vD1E1_MEOwJs"
      },
      "execution_count": null,
      "outputs": []
    },
    {
      "cell_type": "code",
      "source": [
        "# let's add seaborn!\n",
        "# run this cell\n",
        "\n",
        "import seaborn as sns"
      ],
      "metadata": {
        "id": "5cxnz1HdBire"
      },
      "execution_count": null,
      "outputs": []
    },
    {
      "cell_type": "code",
      "source": [
        "# add an exploratory PAIRPLOT\n",
        "# with each species in a different color\n",
        "\n",
        "\n",
        "\n",
        "\n",
        "\n",
        "\n",
        "# on pairplot function: https://seaborn.pydata.org/generated/seaborn.pairplot.html\n",
        "# on color palettes: https://seaborn.pydata.org/tutorial/color_palettes.html\n",
        "# more on color palettes: https://www.practicalpythonfordatascience.com/ap_seaborn_palette"
      ],
      "metadata": {
        "id": "nmuWO1x3O5va"
      },
      "execution_count": null,
      "outputs": []
    },
    {
      "cell_type": "code",
      "source": [
        "# 🎨 a palette in seaborn = a list of colors\n",
        "\n",
        "# print the default color palette"
      ],
      "metadata": {
        "id": "kIgoW13rS6BG"
      },
      "execution_count": null,
      "outputs": []
    },
    {
      "cell_type": "code",
      "source": [
        "# print the r,g,b values of those default colors\n",
        "\n"
      ],
      "metadata": {
        "id": "XQ--yibRsTiE"
      },
      "execution_count": null,
      "outputs": []
    },
    {
      "cell_type": "code",
      "source": [
        "# full list of palettes: https://www.practicalpythonfordatascience.com/ap_seaborn_palette\n",
        "\n",
        "# print 1 that you like here:\n",
        "\n"
      ],
      "metadata": {
        "id": "Hx82_nPMsdb4"
      },
      "execution_count": null,
      "outputs": []
    },
    {
      "cell_type": "code",
      "source": [
        "# print another palette that you like\n",
        "\n"
      ],
      "metadata": {
        "id": "yBEj3b_ytHWO"
      },
      "execution_count": null,
      "outputs": []
    },
    {
      "cell_type": "code",
      "source": [
        "# print another palette that you like\n",
        "\n"
      ],
      "metadata": {
        "id": "AsOgJQqbtJhs"
      },
      "execution_count": null,
      "outputs": []
    },
    {
      "cell_type": "code",
      "source": [
        "# to create a custom blend palette between 2 colors:\n",
        "# https://seaborn.pydata.org/generated/seaborn.blend_palette.html\n",
        "# let's use hexadecimal color: https://htmlcolorcodes.com/color-picker/\n",
        "\n",
        "# create one going from a fushia to a yellow\n",
        "# sequential, gradient\n",
        "\n",
        "\n"
      ],
      "metadata": {
        "id": "8WRGfSqpt379"
      },
      "execution_count": null,
      "outputs": []
    },
    {
      "cell_type": "code",
      "source": [
        "# create another palette between 2 hexadecimal colors\n",
        "# with 10 colors in the palette:\n",
        "\n",
        "\n"
      ],
      "metadata": {
        "id": "qviquLzbRTXd"
      },
      "execution_count": null,
      "outputs": []
    },
    {
      "cell_type": "code",
      "source": [
        "# blend a custom blend palette with the xkcd color space, named colors:\n",
        "# https://xkcd.com/color/rgb/\n",
        "\n",
        "\n",
        "\n",
        "\n"
      ],
      "metadata": {
        "id": "J5ZM0PMqu6sj"
      },
      "execution_count": null,
      "outputs": []
    },
    {
      "cell_type": "code",
      "source": [
        "# 🖍️ and crayola crayon names!\n",
        "\n",
        "print(sns.crayons)\n",
        "\n",
        "# create a palette of 3 crayon colors\n",
        "\n",
        "\n",
        "\n",
        "\n",
        "\n",
        "# notice this isn't a blend, but the exact number of the colors you chose"
      ],
      "metadata": {
        "id": "i8S9IWPOvTb8"
      },
      "execution_count": null,
      "outputs": []
    },
    {
      "cell_type": "code",
      "source": [
        "# let's create a color MAP\n",
        "\n",
        "\n",
        "\n",
        "# as_cmap here = as color map, continuous color not discrete\n",
        "# try replacing with magma, inferno, icefire\n",
        "# others in this full list: https://www.practicalpythonfordatascience.com/ap_seaborn_palette"
      ],
      "metadata": {
        "id": "IvLwV7v_J-_J"
      },
      "execution_count": null,
      "outputs": []
    },
    {
      "cell_type": "code",
      "source": [
        "# seaborn has a powerful color choosing widget: works with Color Brewer colors\n",
        "# https://seaborn.pydata.org/generated/seaborn.choose_colorbrewer_palette.html\n",
        "# https://colorbrewer2.org\n",
        "\n",
        "myColors = sns.choose_colorbrewer_palette(\"qualitative\")\n",
        "\n",
        "# in the arguments of the functions (inside parantheses), you must tell the data type you are working with:\n",
        "# qualitative, diverging, or sequential"
      ],
      "metadata": {
        "id": "qvjWqw8yw-fL"
      },
      "execution_count": null,
      "outputs": []
    },
    {
      "cell_type": "code",
      "source": [
        "# let's use this color palette back into the pairplot penguins data\n",
        "\n",
        "\n",
        "\n"
      ],
      "metadata": {
        "id": "R4zfbabZLW73"
      },
      "execution_count": null,
      "outputs": []
    },
    {
      "cell_type": "code",
      "source": [
        "# link to climate data repo: https://www.metoffice.gov.uk/hadobs/hadcrut5/data/HadCRUT.5.0.2.0/download.html\n",
        "# (updated as of 10.08.25)\n",
        "\n",
        "dataLink = 'https://www.metoffice.gov.uk/hadobs/hadcrut5/data/HadCRUT.5.0.2.0/analysis/diagnostics/HadCRUT.5.0.2.0.analysis.summary_series.global.annual.csv'\n",
        "\n",
        "# read the csv into a dataframe called climate\n",
        "# and check it with .head()\n",
        "\n",
        "\n"
      ],
      "metadata": {
        "id": "kdZoxoIcN2N0"
      },
      "execution_count": null,
      "outputs": []
    },
    {
      "cell_type": "code",
      "source": [
        "# use a pandas function to show the last 5 values in the dataset\n",
        "\n",
        "\n",
        "\n"
      ],
      "metadata": {
        "id": "e0FPfUBtzrIo"
      },
      "execution_count": null,
      "outputs": []
    },
    {
      "cell_type": "code",
      "source": [
        "# first make a simple matplotlib scatterplot to explore what this data looks like\n",
        "\n",
        "\n",
        "\n"
      ],
      "metadata": {
        "id": "ScpWmHXEW5f1"
      },
      "execution_count": null,
      "outputs": []
    },
    {
      "cell_type": "code",
      "source": [
        "# let's look through the color palette widget for something that looks like the warming stripes\n",
        "\n",
        "# is the data d (diverging), s (sequential), or q (qualitative)?\n"
      ],
      "metadata": {
        "id": "eGyM95jLOSHM"
      },
      "execution_count": null,
      "outputs": []
    },
    {
      "cell_type": "code",
      "source": [
        "# https://seaborn.pydata.org/tutorial/color_palettes.html\n",
        "# try this with a few more until you have one that are you satisfied with\n"
      ],
      "metadata": {
        "id": "r2QXbT62QM1r"
      },
      "execution_count": null,
      "outputs": []
    },
    {
      "cell_type": "code",
      "source": [
        "# let's start with a barplot of the data, using seaborn\n",
        "# https://seaborn.pydata.org/generated/seaborn.barplot.html\n",
        "\n",
        "# make sure to choose x-axis data, y-axis data\n",
        "# and a color palette (the one you chose previously to look like warming stripes)"
      ],
      "metadata": {
        "id": "k9gfKAqIPM9a"
      },
      "execution_count": null,
      "outputs": []
    },
    {
      "cell_type": "code",
      "source": [
        "# ok that's a start!\n",
        "# in order to make this chart like the warming stripes image:\n",
        "# let's NORMALIZE the Anomaly (deg C) values\n",
        "# so that they are all between 0 and 1\n",
        "\n",
        "# normalize = (value - minimum) / (max - minimum)\n",
        "# store this in a new column called 'normalized_temps'\n",
        "\n"
      ],
      "metadata": {
        "id": "9q_KKoKzQCuM"
      },
      "execution_count": null,
      "outputs": []
    },
    {
      "cell_type": "code",
      "source": [
        "# write a line of code that gets a random sample of 10 rows of data\n",
        "# to check that your new column is populated\n",
        "# https://pandas.pydata.org/pandas-docs/dev/reference/api/pandas.DataFrame.sample.html\n",
        "\n",
        "\n"
      ],
      "metadata": {
        "id": "5D7gjd46Ui0A"
      },
      "execution_count": null,
      "outputs": []
    },
    {
      "cell_type": "code",
      "source": [
        "# return of matplotlib!\n",
        "# https://seaborn.pydata.org/faq.html?highlight=xticks#wait-i-need-to-learn-how-to-use-matplotlib-too\n",
        "# usually for figure, axes, title, stuff beyond the plot itself\n",
        "\n",
        "import matplotlib.pyplot as plt\n",
        "plt.figure(figsize=(15, 5), dpi=300)\n",
        "plt.rcParams[\"font.family\"] = \"monospace\"\n",
        "\n",
        "# replace some values here!\n",
        "\n",
        "N_COLORS =\n",
        "# how do I get a value that is the number of years in the dataset?\n",
        "\n",
        "\n",
        "colors = sns.color_palette(\"coolwarm\", n_colors=N_COLORS, as_cmap=True)\n",
        "# gives me a palette with 1 color for every row in climate dataset, continuous color because cmap=True\n",
        "\n",
        "# THIS IS THE MAGIC!!\n",
        "mapped_colors = [colors(val) for val in climate['normalized_temps']]\n",
        "# this gives a list in order, 1 color value for each normalized_temp value in the dataset\n",
        "# now we can use it!\n",
        "\n",
        "# create a barplot in seaborn\n",
        "# with x-axis = the year, y-axis = 1, palette is that new list mapped_colors\n",
        "# add a parameter width = 0.99\n",
        "# CODE HERE:\n",
        "\n",
        "\n",
        "\n",
        "# this line gets rid of the axes - we don't need them in this visualization\n",
        "# sns.despine(left=True, bottom=True)\n",
        "\n",
        "# more matplotlib settings here\n",
        "ax = plt.gca()\n",
        "ax.set_xlabel('', fontsize=12, labelpad=10)\n",
        "ax.set_xticks([])\n",
        "ax.set_yticks([])\n",
        "\n",
        "plt.title(\"\\nADD A RELEVANT TITLE HERE\")\n"
      ],
      "metadata": {
        "id": "RnVdhjAlTnxk"
      },
      "execution_count": null,
      "outputs": []
    },
    {
      "cell_type": "code",
      "source": [
        "# let's make some heatmaps with the same data\n",
        "\n",
        "# we're going to need a bit of processing:\n",
        "\n",
        "climateIndexed = climate.drop(columns=[\"normalized_temps\"]).set_index('Time', inplace=False)\n",
        "climateIndexed.head()"
      ],
      "metadata": {
        "id": "S3QKFgm49ee0"
      },
      "execution_count": null,
      "outputs": []
    },
    {
      "cell_type": "code",
      "source": [
        "# what is the difference between climateIndexed and climate?\n",
        "\n",
        "climate.head()"
      ],
      "metadata": {
        "id": "rKOaRn8I_3Sg"
      },
      "execution_count": null,
      "outputs": []
    },
    {
      "cell_type": "code",
      "source": [
        "# create a heatmap, with climateIndexed as the data loaded into seaborn\n",
        "# https://seaborn.pydata.org/generated/seaborn.heatmap.html\n",
        "# choose a color scheme!\n",
        "\n",
        "\n",
        "\n",
        "\n",
        "\n",
        "# remember to fix the axes so they are legible\n",
        "# and add a title"
      ],
      "metadata": {
        "id": "eo74lFtQAEmu"
      },
      "execution_count": null,
      "outputs": []
    },
    {
      "cell_type": "code",
      "source": [
        "# 🤖 NOW ON YOUR OWN!\n",
        "# create another heatmap with the same data, but with a custom palette of your own choosing\n",
        "# use hexadecimal colors, or crayon names, xkcd, etc.\n",
        "\n",
        "\n",
        "\n",
        "\n",
        "\n",
        "\n"
      ],
      "metadata": {
        "id": "4gLmZgiVA6JB"
      },
      "execution_count": null,
      "outputs": []
    },
    {
      "cell_type": "code",
      "source": [
        "# create another heatmap with the same data, but with a 2nd custom palette of your own choosing\n",
        "# use hexadecimal colors, or crayon names, xkcd, etc.\n",
        "\n",
        "\n",
        "\n",
        "\n",
        "\n"
      ],
      "metadata": {
        "id": "pCES5i95Bl1L"
      },
      "execution_count": null,
      "outputs": []
    },
    {
      "cell_type": "markdown",
      "source": [
        "## 🪼 when you are finished! submit: 🖇️\n",
        "\n",
        "1. Download this notebook as an `.ipynb` file (File -> Download)\n",
        "2. Go to [this link](https://airtable.com/app8wCIzUG0DBWhOq/shr0qd48tfTV92lza) and upload the file via the form.\n",
        "3. Then you're done! In-class labs are counted as participation credit."
      ],
      "metadata": {
        "id": "0E1ocskLHagk"
      }
    },
    {
      "cell_type": "markdown",
      "source": [
        "**🔥🧊 citations:**\n",
        "- warming stripes inspiration: [Towards Data Science](https://towardsdatascience.com/visualizing-climate-change-a-step-by-step-guide-to-reproduce-climate-stripes-with-python-ea1d440e8e8d), Guillaume Weingertner\n",
        "- original climate dataset and details: https://www.metoffice.gov.uk/hadobs/hadcrut5/data/current/download.html\n",
        "- palmerpenguins python package: https://github.com/mcnakhaee/palmerpenguins\n",
        "- more on the Warming Stripes: https://showyourstripes.info/"
      ],
      "metadata": {
        "id": "UgBRXk0xGG7z"
      }
    }
  ]
}