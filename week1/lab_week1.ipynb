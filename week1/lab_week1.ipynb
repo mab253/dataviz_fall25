{
 "cells": [
  {
   "cell_type": "code",
   "execution_count": null,
   "metadata": {
    "id": "KnrBqAspZ-cD",
    "scrolled": true
   },
   "outputs": [],
   "source": [
    "# 🐍 python!\n",
    "\n",
    "print(\"hello world!\")"
   ]
  },
  {
   "cell_type": "code",
   "execution_count": null,
   "metadata": {
    "id": "-TihL-0nkJaK"
   },
   "outputs": [],
   "source": [
    "myNumber = 5\n",
    "print(myNumber + 10)\n",
    "print(myNumber * 10)\n",
    "\n",
    "# add a line that performs another computation\n",
    "# on myNumber, and print it"
   ]
  },
  {
   "cell_type": "code",
   "execution_count": null,
   "metadata": {
    "id": "SzyitIxfat29"
   },
   "outputs": [],
   "source": [
    "# import libraries: matplotlib and pandas\n",
    "\n",
    "from matplotlib import pyplot as plt\n",
    "import pandas as pd\n",
    "\n",
    "# setup for seeing graphs in notebook\n",
    "%matplotlib inline\n",
    "# more on what above line means:\n",
    "# https://jakevdp.github.io/PythonDataScienceHandbook/04.00-introduction-to-matplotlib.html#Plotting-from-an-IPython-notebook"
   ]
  },
  {
   "cell_type": "code",
   "execution_count": null,
   "metadata": {
    "id": "76u0A0_Ni8kp"
   },
   "outputs": [],
   "source": [
    "# start with a figure ...\n",
    "# when we write plt.something(), the \".\" dot allows us to call any of the functions bundled up in plt\n",
    "# full list here in documentation: https://matplotlib.org/stable/api/pyplot_summary.html\n",
    "\n",
    "fig = plt.figure()\n",
    "ax = plt.axes()\n",
    "plt.show()"
   ]
  },
  {
   "cell_type": "code",
   "execution_count": null,
   "metadata": {
    "id": "taZPsuxucJpf"
   },
   "outputs": [],
   "source": [
    "# warm-up\n",
    "# make a most basic line plot\n",
    "\n",
    "plt.plot([1, 2, 3, 4])\n",
    "# square brackets [x, y, z] make arrays\n",
    "# each element in array is separated by a \",\" comma\n",
    "\n",
    "# write in comments here: what are the (x,y) values of the resulting points?\n",
    "\n",
    "\n",
    "plt.ylabel('some numbers')\n",
    "# giving my y-axis a label\n",
    "\n",
    "plt.show()\n",
    "\n",
    "# now: add a line that gives the x-axis a label\n",
    "# where do you need to add this line?"
   ]
  },
  {
   "cell_type": "code",
   "execution_count": null,
   "metadata": {
    "id": "MGbm_KmYd3Hy"
   },
   "outputs": [],
   "source": [
    "# change the color, linestyle, other options\n",
    "# by adding parameters in the parantheses\n",
    "# plt.plot(data, options)\n",
    "\n",
    "plt.plot([1, 2, 3, 4], color=\"purple\", linestyle=\"dotted\")\n",
    "# all options available, documentation: https://matplotlib.org/stable/api/_as_gen/matplotlib.pyplot.plot.html\n",
    "# (look for section \"other parameters\" in docs)\n",
    "\n",
    "plt.ylabel('some numbers')\n",
    "# giving my y-axis a label\n",
    "\n",
    "plt.show()\n",
    "\n",
    "# add a line of code that adds a label to the x-axis\n",
    "# and adds another line with [5, 6, 7, 8], with different color + line style"
   ]
  },
  {
   "cell_type": "code",
   "execution_count": null,
   "metadata": {
    "id": "71UpVuyadMX1"
   },
   "outputs": [],
   "source": [
    "# warm-up\n",
    "# what happens in this code?\n",
    "x = range(0, 25)\n",
    "\n",
    "import random\n",
    "y = []\n",
    "for i in range(0,25):\n",
    "    y.append(random.randint(1,30))\n",
    "\n",
    "print(y)"
   ]
  },
  {
   "cell_type": "code",
   "execution_count": null,
   "metadata": {
    "id": "5m_vvgNo9qSb"
   },
   "outputs": [],
   "source": [
    "# now ... how would you plot the values in the array called y in the previous cell?\n",
    "# make it a line plot with the line color as red"
   ]
  },
  {
   "cell_type": "code",
   "execution_count": null,
   "metadata": {
    "id": "0DW-pnn2fHSe"
   },
   "outputs": [],
   "source": [
    "# returning to john snow + cholera ...\n",
    "# let's load data from a file\n",
    "\n",
    "cholera_dates_df = pd.read_csv('https://raw.githubusercontent.com/mab253/dataviz_fall24/main/week1/snow-data.csv')\n",
    "\n",
    "# df here stands for \"DataFrame\" - basically a table organized with columns\n",
    "# 🐼 remember pd = pandas, and \".\" dot lets us use function \"read_csv\"\n",
    "\n",
    "# show the first 5 items from data\n",
    "cholera_dates_df.head(5)\n",
    "\n",
    "# show the first x items from data: df.head(x)"
   ]
  },
  {
   "cell_type": "code",
   "execution_count": null,
   "metadata": {
    "id": "WVjW9XGDnTRD"
   },
   "outputs": [],
   "source": [
    "# show the last 2 items from data\n",
    "cholera_dates_df.tail(2)"
   ]
  },
  {
   "cell_type": "code",
   "execution_count": null,
   "metadata": {
    "id": "VxDr-S_uma7h"
   },
   "outputs": [],
   "source": [
    "# make a line plot with \"deaths\" data\n",
    "plt.plot(cholera_dates_df.date, cholera_dates_df.deaths, color=\"black\", linestyle=\"-\", label=\"Deaths\")\n",
    "# the first 2 values are the x and y axis data - look what matches the column names from the dataframe! (df.columnName)\n",
    "\n",
    "# 😱 x-axis is a mess!!\n",
    "# let's start to design the x-axis elements ...\n",
    "# plt.tick_params(axis='x', labelrotation=60, labelsize=6)\n",
    "# all the options for tick_params() function: https://matplotlib.org/stable/api/_as_gen/matplotlib.pyplot.tick_params.html\n",
    "\n",
    "# let's make the x-axis better ...\n",
    "# by cleaning up the number of \"ticks\" shown\n",
    "\n",
    "# from matplotlib import ticker\n",
    "# pull more code from matplotlib, the \"ticker\" object\n",
    "\n",
    "# maxTicks = 6\n",
    "\n",
    "# xticks = ticker.MaxNLocator(maxTicks)\n",
    "\n",
    "# set the xaxis number of ticks\n",
    "# gca() is a function: \"get current axis\"\n",
    "# plt.gca().xaxis.set_major_locator(xticks)\n",
    "\n",
    "# instead of a hard-coded number, what about every-other row, every other date?\n",
    "# maxTicks = len(cholera_dates_df) / 2\n",
    "# len here returns the length of the DataFrame, how many rows we have\n",
    "\n",
    "# plt.legend()\n",
    "# add a legend\n",
    "# more documentation on legend: https://matplotlib.org/stable/api/_as_gen/matplotlib.pyplot.legend.html\n",
    "\n",
    "# plt.title('Cholera Deaths and Cases\\nJohn Snow\\'s London', pad=14, loc='center')\n",
    "# add a title\n",
    "# more documentation on titles: https://matplotlib.org/stable/gallery/text_labels_and_annotations/titles_demo.html#sphx-glr-gallery-text-labels-and-annotations-titles-demo-py\n",
    "\n",
    "# let's add \"cases\" data! add another line to the plot, with unique color and line style\n",
    "\n",
    "# we should label our axes!\n",
    "\n",
    "# how do we fix the legend here?\n"
   ]
  },
  {
   "cell_type": "code",
   "execution_count": null,
   "metadata": {
    "id": "FOZjb9jptgCc"
   },
   "outputs": [],
   "source": [
    "# let's work with scatter plot data, also from John Snow's Ghost Map\n",
    "\n",
    "cholera_deaths_df = pd.read_csv('https://raw.githubusercontent.com/yy/dviz-course/master/data/deaths.csv')\n",
    "\n",
    "# let's look @ the first 20 rows of this DataFrame\n"
   ]
  },
  {
   "cell_type": "code",
   "execution_count": null,
   "metadata": {
    "id": "RJEtlQqJuHwd"
   },
   "outputs": [],
   "source": [
    "# now we'll plot these points\n",
    "# documentation on scatter function: https://matplotlib.org/stable/api/_as_gen/matplotlib.pyplot.scatter.html\n",
    "\n",
    "plt.scatter(cholera_deaths_df.X, cholera_deaths_df.Y, color=\"Black\", s=2)\n",
    "# the first value there is the x-axis data - dataframe.columnName\n",
    "# the second value is the y-axis data - dataframe.columnName\n",
    "# s there refers to size - 1 = 1/72 inches! (in documentation)\n",
    "\n",
    "# what color should we choose? full list: https://matplotlib.org/stable/gallery/color/named_colors.html\n",
    "# other ways to name colors, more detail: https://matplotlib.org/stable/tutorials/colors/colors.html\n",
    "# RGB, HEX, other color systems you may know - these work!"
   ]
  },
  {
   "cell_type": "code",
   "execution_count": null,
   "metadata": {
    "id": "aTxHMX-mvsGs"
   },
   "outputs": [],
   "source": [
    "# let's also load the location of the water PUMPS (optimized for this exercise)\n",
    "\n",
    "cholera_pumps_df = pd.read_csv('https://raw.githubusercontent.com/yy/dviz-course/master/data/pumps.csv')\n",
    "\n",
    "# double check what the pump data looks like\n",
    "\n",
    "cholera_pumps_df.head()"
   ]
  },
  {
   "cell_type": "code",
   "execution_count": null,
   "metadata": {
    "id": "osoRZPxpv-FI"
   },
   "outputs": [],
   "source": [
    "# and now let's plot them both!\n",
    "\n",
    "# add code here\n",
    "\n",
    "# what channels can we change to \"pop-out\" the information, the pump with the most deaths clustered around?"
   ]
  },
  {
   "cell_type": "code",
   "execution_count": null,
   "metadata": {
    "id": "C_ji1lSHxI7f"
   },
   "outputs": [],
   "source": [
    "# we can also save the image\n",
    "\n",
    "# plt.savefig(\"snow.png\")\n",
    "\n",
    "# higher resolution? matplotlib thinks in \"inches\" ...\n",
    "# fig = plt.gcf()\n",
    "# gcf() = get current figure\n",
    "# print(fig.get_size_inches())\n",
    "# what size is the graph, in inches?\n",
    "# now choose some parameters\n",
    "# dpi = dots per inch, pixels\n",
    "# plt.savefig(\"snow.png\", dpi=400, format='png', bbox_inches='tight', pad_inches=0.1)"
   ]
  },
  {
   "cell_type": "code",
   "execution_count": null,
   "metadata": {
    "id": "OqJGE5ji1rF0"
   },
   "outputs": [],
   "source": [
    "# what if we wanted to put a map of London behind this translated geospatial data?!\n",
    "\n",
    "# use python image library\n",
    "from PIL import Image\n",
    "\n",
    "# load the image\n",
    "# first download it from here:\n",
    "# https://github.com/mab253/dataviz_fall24/tree/main/week1 - the image snow-map-bg.png\n",
    "# then add it to the google colab (temp) file system\n",
    "\n",
    "image_path = \"INSERT PATH HERE\"\n",
    "img = Image.open(image_path)\n",
    "\n",
    "# place the image on the figure, based on min/max x and y points\n",
    "# like stretching across a canvas\n",
    "plt.imshow(img, extent=[3, 23, 2, 22], alpha=0.4)\n",
    "# alpha = opacity value; < 1 is less than opaque\n",
    "# so the data can show up \"on top\" (gestalt!)\n",
    "\n",
    "# add scatter plots for deaths and pumps, data\n",
    "\n",
    "# let's hide the axes labels - they don't really represent the geospatial data here\n",
    "# plt.xticks([])  # hide x-axis tick labels\n",
    "# plt.yticks([])  # hide y-axis tick labels\n",
    "\n",
    "# add a title here before you save!\n",
    "\n",
    "# high-res download of the figure\n",
    "plt.savefig(\"snow-map.png\", dpi=300, format='png', bbox_inches='tight', pad_inches=0.1)"
   ]
  },
  {
   "cell_type": "markdown",
   "metadata": {
    "id": "HQf9L9Kx9qSd"
   },
   "source": [
    "## 🪼 when you are finished! submit: 🖇️\n",
    "\n",
    "1. Download this notebook as an `.ipynb` file (File -> Download)\n",
    "2. Go to [this link](https://airtable.com/app8wCIzUG0DBWhOq/shr0qd48tfTV92lza) and upload the file via the form.\n",
    "3. Then you're done! In-class labs are counted as participation credit."
   ]
  },
  {
   "cell_type": "markdown",
   "metadata": {
    "id": "EjKmjDj4zBkg"
   },
   "source": [
    "**🗺️📄 citations:**\n",
    "\n",
    "- John Snow dates data from: https://github.com/shukkkur/John-Snows-Ghost-Map/tree/main/datasets ([Datacamp](https://www.datacamp.com/))\n",
    "- John Snow deaths + pump data from: https://yyahn.com/dviz-course/m02-history/lab02/ (Yong-Yeol Ahn)\n",
    "- original John Snow map image: _A map taken from a report by Dr. John Snow._ [Wellcome Collection](https://wellcomecollection.org/works/uxgfjt62/items)."
   ]
  },
  {
   "cell_type": "code",
   "execution_count": null,
   "metadata": {
    "id": "FWAnESPt9qSd"
   },
   "outputs": [],
   "source": []
  }
 ],
 "metadata": {
  "colab": {
   "provenance": []
  },
  "kernelspec": {
   "display_name": "Python 3 (ipykernel)",
   "language": "python",
   "name": "python3"
  },
  "language_info": {
   "codemirror_mode": {
    "name": "ipython",
    "version": 3
   },
   "file_extension": ".py",
   "mimetype": "text/x-python",
   "name": "python",
   "nbconvert_exporter": "python",
   "pygments_lexer": "ipython3",
   "version": "3.11.0"
  }
 },
 "nbformat": 4,
 "nbformat_minor": 1
}
