{
  "cells": [
    {
      "cell_type": "code",
      "execution_count": null,
      "metadata": {
        "id": "nVpvKr3-Xe49"
      },
      "outputs": [],
      "source": [
        "# 🐼 warm up with pandas - import, and DIY dataframe\n",
        "\n",
        "import pandas as pd\n",
        "\n",
        "df = pd.DataFrame({\n",
        "    'Borough': ['Brooklyn', 'Manhattan', 'Queens', 'Staten Island', 'Bronx'],\n",
        "    '2020 Population': [2736074, 1694251, 2405464, 495747, 1472654],\n",
        "    'Major Airport': [False, False, True, False, False]\n",
        "})\n",
        "\n",
        "# RUN this cell! shift + enter\n"
      ]
    },
    {
      "cell_type": "code",
      "execution_count": null,
      "metadata": {
        "id": "Z3bAFqSVi7nG"
      },
      "outputs": [],
      "source": [
        "# using square brackets [] notation\n",
        "# how can I access the first cell in the 2020 population column?\n",
        "\n",
        "# write code here\n",
        "\n",
        "# write another line of code that prints the 3rd cell of the borough column,\n",
        "# and then the 3rd cell of the major airport column on a new line\n",
        "\n"
      ]
    },
    {
      "cell_type": "code",
      "execution_count": null,
      "metadata": {
        "id": "nmtTBU-vi7nG"
      },
      "outputs": [],
      "source": [
        "# matplot lib refresh!\n",
        "\n",
        "# add a line of code that imports matplotlib\n",
        "# NOTE: you're going to want to add this: %matplotlib inline\n",
        "\n",
        "\n",
        "# plot a BAR chart, borough vs. 2020 population\n",
        "# and change the color from the default\n",
        "# check out this documentation to help: https://matplotlib.org/stable/api/_as_gen/matplotlib.pyplot.bar.html\n",
        "\n",
        "\n",
        "# add code here"
      ]
    },
    {
      "cell_type": "code",
      "execution_count": null,
      "metadata": {
        "id": "6nAzKqecaI-9"
      },
      "outputs": [],
      "source": [
        "# install the dataset via pip, python package manager\n",
        "# https://github.com/mcnakhaee/palmerpenguins\n",
        "\n",
        "# RUN this cell!\n",
        "\n",
        "!pip install palmerpenguins\n",
        "from palmerpenguins import load_penguins_raw\n",
        "\n",
        "# load dataframe into variable called penguins\n",
        "penguins = load_penguins_raw()\n"
      ]
    },
    {
      "cell_type": "code",
      "execution_count": null,
      "metadata": {
        "id": "u_yN2sH1aL4L"
      },
      "outputs": [],
      "source": [
        "# take a look @ the first 5 rows of the dataset\n",
        "# with head()\n"
      ]
    },
    {
      "cell_type": "code",
      "execution_count": null,
      "metadata": {
        "id": "xZ2qRsCIbWln"
      },
      "outputs": [],
      "source": [
        "# hmmm, what is culmen?!\n",
        "# read a little context about the data here:\n",
        "# https://allisonhorst.github.io/palmerpenguins/articles/art.html"
      ]
    },
    {
      "cell_type": "code",
      "execution_count": null,
      "metadata": {
        "id": "uKaIwQz2clwX"
      },
      "outputs": [],
      "source": [
        "# let's rename those column names that include culmen\n",
        "# what should we rename them so they are a little easier for non-penguin-specialists?\n",
        "\n",
        "# the pattern for doing this with the rename function looks like this:\n",
        "# dataframe = dataframe.rename(columns={'old_column_name': 'new_column_name'})\n",
        "# read this documentation to see how:\n",
        "# https://pandas.pydata.org/docs/reference/api/pandas.DataFrame.rename.html\n",
        "\n",
        "# write code here\n",
        "\n",
        "\n",
        "\n",
        "# check it again with head()\n",
        "\n"
      ]
    },
    {
      "cell_type": "code",
      "execution_count": null,
      "metadata": {
        "id": "swkOmfoCc24B"
      },
      "outputs": [],
      "source": [
        "# let's keep exploring the dataset\n",
        "# get the \"shape\" of the dataset, using .shape\n",
        "# the number of rows and columns (rows, columns)\n",
        "\n",
        "# https://pandas.pydata.org/docs/reference/api/pandas.DataFrame.shape.html\n",
        "\n"
      ]
    },
    {
      "cell_type": "code",
      "execution_count": null,
      "metadata": {
        "id": "CJfrFObcdQq6"
      },
      "outputs": [],
      "source": [
        "# keep doing exploratory analysis, with .info() function\n",
        "# summarize info: columns, non-null counts, and data type\n",
        "# https://pandas.pydata.org/docs/reference/api/pandas.DataFrame.info.html\n",
        "\n",
        "# add code here\n"
      ]
    },
    {
      "cell_type": "code",
      "execution_count": null,
      "metadata": {
        "id": "mavaDsCOdi_G"
      },
      "outputs": [],
      "source": [
        "# keep doing exploratory analysis, with .describe() function\n",
        "# get statistics for each quantitative column/attribute\n",
        "# https://pandas.pydata.org/docs/reference/api/pandas.DataFrame.describe.html\n",
        "\n"
      ]
    },
    {
      "cell_type": "markdown",
      "metadata": {
        "id": "paznXZERi7nJ"
      },
      "source": [
        "What's the largest value in the Body Mass column?\n",
        "(write here)\n",
        "\n",
        "What's the standard deviation of Flipper Length?\n",
        "(write here)\n",
        "\n",
        "What's going on with the Sample Number column?\n",
        "(write here)"
      ]
    },
    {
      "cell_type": "code",
      "execution_count": null,
      "metadata": {
        "id": "MXGrkIciduII"
      },
      "outputs": [],
      "source": [
        "# use the write to csv function to download and view the data in another platform\n",
        "# https://pandas.pydata.org/docs/reference/api/pandas.DataFrame.to_csv.html\n",
        "\n",
        "\n",
        "\n"
      ]
    },
    {
      "cell_type": "code",
      "execution_count": null,
      "metadata": {
        "id": "SH8T3AV4d-FP"
      },
      "outputs": [],
      "source": [
        "# un-comment the following line of code:\n",
        "# penguins.count()\n",
        "# read documentation here: https://pandas.pydata.org/docs/reference/api/pandas.DataFrame.count.html\n",
        "\n",
        "\n",
        "\n",
        "# write in comments here - what does the count() table show?\n"
      ]
    },
    {
      "cell_type": "code",
      "execution_count": null,
      "metadata": {
        "id": "edtNZe1-eKpW"
      },
      "outputs": [],
      "source": [
        "# compare the table results to the penguins.shape\n",
        "# are some columns missing values?\n",
        "\n",
        "# RUN the following line of code:\n",
        "# print(penguins.isna().sum())\n",
        "# documentation here: https://pandas.pydata.org/docs/reference/api/pandas.DataFrame.isna.html\n",
        "\n",
        "# write in comments below: what does the isna table show?\n"
      ]
    },
    {
      "cell_type": "code",
      "execution_count": null,
      "metadata": {
        "id": "eMcDY7HzeY_P"
      },
      "outputs": [],
      "source": [
        "# explore: how many different values are there for the 'island' column/attribute?\n",
        "# use the value_counts() function\n",
        "# documentation here: https://pandas.pydata.org/docs/reference/api/pandas.Series.value_counts.html\n",
        "\n",
        "\n"
      ]
    },
    {
      "cell_type": "code",
      "execution_count": null,
      "metadata": {
        "id": "neaQ7gPRfHvb"
      },
      "outputs": [],
      "source": [
        "# let's sort the data by flipper length\n",
        "# this documentation should tell you how:\n",
        "# https://pandas.pydata.org/docs/reference/api/pandas.DataFrame.sort_values.html\n",
        "\n",
        "\n",
        "# check that you've sorted right with head() ...\n"
      ]
    },
    {
      "cell_type": "code",
      "execution_count": null,
      "metadata": {
        "id": "0eBErQsaff8R"
      },
      "outputs": [],
      "source": [
        "# what is the standard deviation of the quantiataive attributes - how far are values from the mean?\n",
        "# use .std() function\n",
        "# https://pandas.pydata.org/docs/reference/api/pandas.DataFrame.std.html\n",
        "\n",
        "\n",
        "\n",
        "\n",
        "# what happens when skipna = False?\n"
      ]
    },
    {
      "cell_type": "code",
      "execution_count": null,
      "metadata": {
        "id": "NMZZMJNof77I"
      },
      "outputs": [],
      "source": [
        "# what about creating a smaller DataFrame, just bill length vs species?\n",
        "# a subset of the full data\n",
        "# the pattern for this:\n",
        "# NEW_DATAFRAME_NAME = OLD_DATAFRAME[\"Column A\", \"Column B\"]\n",
        "\n",
        "\n"
      ]
    },
    {
      "cell_type": "code",
      "execution_count": null,
      "metadata": {
        "id": "NF9lunC2i7nK"
      },
      "outputs": [],
      "source": [
        "# write a line of code that shows the first 10 values\n",
        "# of the smaller DataFrame, just bill lenght vs. species\n",
        "# and SORT that data from highest -> lowest\n",
        "\n"
      ]
    },
    {
      "cell_type": "code",
      "execution_count": null,
      "metadata": {
        "id": "2NhLbw4Lg6MP"
      },
      "outputs": [],
      "source": [
        "# if we are going to visualize this, we could choose to get rid of NA outliers\n",
        "# use the .dropna() function to do this\n",
        "# documentation: https://pandas.pydata.org/docs/reference/api/pandas.DataFrame.dropna.html\n",
        "\n",
        "# write a line of code that re-writes the same dataframe\n",
        "# and drops the NA values\n",
        "\n",
        "# for future reading:\n",
        "# more context on missing values: https://jakevdp.github.io/PythonDataScienceHandbook/03.04-missing-values.html\n"
      ]
    },
    {
      "cell_type": "code",
      "execution_count": null,
      "metadata": {
        "id": "sVM11tN1i7nK"
      },
      "outputs": [],
      "source": [
        "# get the \"shape\" of this newest DataFrame (with the NA dropped)\n",
        "\n",
        "# write here in comments - how many rows were dropped?"
      ]
    },
    {
      "cell_type": "code",
      "execution_count": null,
      "metadata": {
        "id": "kc3t1ft-hToF"
      },
      "outputs": [],
      "source": [
        "# let's look @ the mean of the bill length, by species\n",
        "# documentation on groupby: https://pandas.pydata.org/docs/user_guide/groupby.html\n",
        "\n"
      ]
    },
    {
      "cell_type": "code",
      "execution_count": null,
      "metadata": {
        "id": "Uzc2GBcUiEzN"
      },
      "outputs": [],
      "source": [
        "# let's start with a scatter plot of just this data, species + bill length\n",
        "# working with the matplotlib defaults ...\n",
        "\n",
        "# write a line of code that creates a SCATTERPLOT\n",
        "# with Species on the x-axis, and Bill Length as the y-axis\n",
        "# remember: plt.scatter(x, y, options)\n",
        "# https://matplotlib.org/stable/api/_as_gen/matplotlib.pyplot.scatter.html\n",
        "\n",
        "\n"
      ]
    },
    {
      "cell_type": "code",
      "execution_count": null,
      "metadata": {
        "id": "1Kj_8NezigHj"
      },
      "outputs": [],
      "source": [
        "# NOW! if I want to show each species in a different color, I should filter my data\n",
        "# I want 1 dataframe per species\n",
        "\n",
        "# how can I FILTER the data so that all the Adelie penguins are in a DataFrame called adelie\n",
        "# all the Gentoo penguins are in a DataFrame called gentoo\n",
        "# and all the Chinstrap penguins are in a DataFrame called chinstrap?\n",
        "\n",
        "# check this out if you need a hint or example:\n",
        "# https://www.statology.org/pandas-select-rows-based-on-column-values/"
      ]
    },
    {
      "cell_type": "code",
      "execution_count": null,
      "metadata": {
        "id": "7cJL3nlli7nL"
      },
      "outputs": [],
      "source": [
        "# use .head() to check your 3 new dataframes\n",
        "\n",
        "\n",
        "\n"
      ]
    },
    {
      "cell_type": "code",
      "execution_count": null,
      "metadata": {
        "id": "2krkwVMxkF8H"
      },
      "outputs": [],
      "source": [
        "# now we can plot the 3 species individually, with different options!\n",
        "\n",
        "# write 3 lines of code to put the 3 species scatters on the same plot\n",
        "# species = x-axis, bill length = y-axis\n",
        "# https://matplotlib.org/stable/api/_as_gen/matplotlib.pyplot.scatter.html\n",
        "\n",
        "# choose a different COLOR for each species\n",
        "# play with alpha value and size for your visualization\n",
        "\n",
        "\n"
      ]
    },
    {
      "cell_type": "code",
      "execution_count": null,
      "metadata": {
        "id": "owez0sclk846"
      },
      "outputs": [],
      "source": [
        "# CHECKPOINT: let's do this one together as a class\n",
        "\n",
        "# to examine the mean along with the scatter, let's add a boxplot to each species\n",
        "# matplotlib docs: https://matplotlib.org/stable/api/_as_gen/matplotlib.pyplot.boxplot.html#\n",
        "\n",
        "#y_data = [adelie[\"Bill Length (mm)\"], gentoo[\"Bill Length (mm)\"], chinstrap[\"Bill Length (mm)\"]]\n",
        "\n",
        "# remember the pattern! plt.type(data, options)\n",
        "#plt.boxplot(y_data, positions=[0, 1, 2])\n",
        "\n",
        "# pattern: plt.scatter(x, y, options)\n",
        "# to match the box plots to the scatter plots, we assign:\n",
        "# adelie = 0, gentoo = 1, chinstrap = 2\n",
        "# x values here need to be a list the same length as the y list\n",
        "#plt.scatter([0]*len(adelie), adelie[\"Bill Length (mm)\"], color=\"Orange\", alpha = 0.5, s = 100)\n",
        "#plt.scatter([1]*len(gentoo), gentoo[\"Bill Length (mm)\"], color=\"Teal\", alpha = 0.5, s = 100)\n",
        "#plt.scatter([2]*len(chinstrap), chinstrap[\"Bill Length (mm)\"], color=\"Purple\", alpha = 0.5, s = 100)\n"
      ]
    },
    {
      "cell_type": "code",
      "execution_count": null,
      "metadata": {
        "id": "yhxKRG5FmLKu"
      },
      "outputs": [],
      "source": [
        "# let's do some data transformation, and \"jitter\" the dots\n",
        "\n",
        "# for each species, I want to have an x_data list, small random numbers in a range near their x value\n",
        "# the list of x values needs to be the same length as the list of y values\n",
        "\n",
        "# let's do some data transformation, and \"jitter\" the dots\n",
        "\n",
        "#import random\n",
        "\n",
        "# for each species, I want to have an x_data list, small random numbers in a range near their x value\n",
        "# the list of x values needs to be the same length as the list of y values\n",
        "#x_adelie = [random.uniform(-0.1, 0.1) + 0 for numbers in range(len(adelie))]\n",
        "#print(x_adelie)\n",
        "\n",
        "#x_gentoo = [random.uniform(-0.1, 0.1) + 1 for numbers in range(len(gentoo))]\n",
        "#x_chinstrap = [random.uniform(-0.1, 0.1) + 2 for numbers in range(len(chinstrap))]\n",
        "\n",
        "#plt.scatter(x_adelie, adelie[\"Bill Length (mm)\"], color=\"Orange\", alpha = 0.3, s = 80)\n",
        "#plt.scatter(x_gentoo, gentoo[\"Bill Length (mm)\"], color=\"Teal\", alpha = 0.3, s = 80)\n",
        "#plt.scatter(x_chinstrap, chinstrap[\"Bill Length (mm)\"], color=\"Purple\", alpha = 0.3, s = 80)\n"
      ]
    },
    {
      "cell_type": "code",
      "execution_count": null,
      "metadata": {
        "id": "x8NO4u3boE5o"
      },
      "outputs": [],
      "source": [
        "# reproducing the plot ...\n",
        "#plt.figure(figsize=(14, 10))\n",
        "# figsize = inches!\n",
        "\n",
        "#plt.boxplot(y_data, positions=[0, 1, 2], medianprops={\"color\": \"Red\", \"linewidth\": 2})\n",
        "\n",
        "#plt.scatter(x_adelie, adelie[\"Bill Length (mm)\"], color=\"Orange\", alpha = 0.3, s = 80)\n",
        "#plt.scatter(x_gentoo, gentoo[\"Bill Length (mm)\"], color=\"Teal\", alpha = 0.3, s = 80)\n",
        "#plt.scatter(x_chinstrap, chinstrap[\"Bill Length (mm)\"], color=\"Purple\", alpha = 0.3, s = 80)\n",
        "\n",
        "\n",
        "# but let's clean up the axes, titles, text, font, etc.!\n",
        "# https://matplotlib.org/stable/api/_as_gen/matplotlib.pyplot.title.html\n",
        "#plt.rcParams[\"font.family\"] = \"monospace\"\n",
        "#plt.xticks([0, 1, 2], [\"Adelie\", \"Gentoo\", \"Chinstrap\"], rotation=0, ha='center')\n",
        "#plt.ylabel(\"Bill Length (mm)\")\n",
        "#plt.xlabel(\"Penguin Species\")\n",
        "#plt.title(\"\\nDistribution of Bill Length Across Penguin Species\\n\", pad=10, fontsize=18)\n",
        "\n",
        "# and save it\n",
        "#plt.savefig(\"violin.png\", dpi=500, format=\"png\")"
      ]
    },
    {
      "cell_type": "code",
      "execution_count": null,
      "metadata": {
        "id": "CVMBdgc2pCp1"
      },
      "outputs": [],
      "source": [
        "# nice!\n",
        "# now ... let's go back to the larger penguin dataset\n",
        "# and plot flipper length vs. body mass, across the whole dataset\n",
        "# 1 line of code, scatterplot\n",
        "# flipper lenght = x-axis, body mass = y-axis\n",
        "\n",
        "# add your code here\n"
      ]
    },
    {
      "cell_type": "code",
      "execution_count": null,
      "metadata": {
        "id": "h7Jz0NrPpP3L"
      },
      "outputs": [],
      "source": [
        "# ok ... but now we want to filter the dataset to get 3 species, differentiated\n",
        "\n",
        "# first getting a smaller dataframe: all rows, just columns flipper length, body mass, and species\n",
        "\n",
        "# add code here"
      ]
    },
    {
      "cell_type": "code",
      "execution_count": null,
      "metadata": {
        "id": "DacR4shspiA-"
      },
      "outputs": [],
      "source": [
        "# now drop any NA missing values in this new dataframe\n",
        "\n"
      ]
    },
    {
      "cell_type": "code",
      "execution_count": null,
      "metadata": {
        "id": "IXQJhI19qio3"
      },
      "outputs": [],
      "source": [
        "# NOW make filtered dataframes for each species:\n",
        "# i.e., an adelie table with only flipper length, body mass, and species\n",
        "# repeat for gentoo and chinstrap\n",
        "# so that we can plot each species with different parameters\n",
        "\n",
        "\n",
        "\n",
        "# test adelie out, using .head()\n"
      ]
    },
    {
      "cell_type": "code",
      "execution_count": null,
      "metadata": {
        "id": "lnTXkuQMplWz"
      },
      "outputs": [],
      "source": [
        "plt.figure(figsize=(10, 8))\n",
        "\n",
        "# use color AND marker channels, to show 3 different species\n",
        "# on the same scatterplot, bill length vs. body mass\n",
        "# documentation for markers: https://matplotlib.org/stable/api/markers_api.html#module-matplotlib.markers\n",
        "\n",
        "\n",
        "\n",
        "# add legend, labels, and title\n",
        "\n",
        "\n",
        "\n",
        "\n",
        "\n"
      ]
    },
    {
      "cell_type": "code",
      "execution_count": null,
      "metadata": {
        "id": "-ZW7o0I2raEQ"
      },
      "outputs": [],
      "source": [
        "# 📄 documentation cheatsheet!\n",
        "\n",
        "# bar chart: https://matplotlib.org/stable/api/_as_gen/matplotlib.pyplot.bar.html\n",
        "\n",
        "# histogram: https://matplotlib.org/stable/api/_as_gen/matplotlib.pyplot.hist.html\n",
        "\n",
        "# titles: https://matplotlib.org/stable/api/_as_gen/matplotlib.pyplot.title.html\n",
        "\n",
        "# axis labels: https://matplotlib.org/stable/api/_as_gen/matplotlib.pyplot.xlabel.html\n",
        "\n",
        "# colors: https://matplotlib.org/stable/tutorials/colors/colors.html\n",
        "\n",
        "# annotations: https://matplotlib.org/stable/gallery/text_labels_and_annotations/annotation_basic.html\n",
        "\n",
        "# fonts: https://matplotlib.org/stable/gallery/text_labels_and_annotations/fonts_demo_kw.html\n",
        "\n",
        "# more fonts: https://matplotlib.org/stable/gallery/text_labels_and_annotations/font_family_rc.html"
      ]
    },
    {
      "cell_type": "code",
      "execution_count": null,
      "metadata": {
        "id": "ChnXfe_kq8y_"
      },
      "outputs": [],
      "source": [
        "# using the penguins dataframe, can you make a HISTOGRAM for the body mass attribute,\n",
        "# where the plot shows 3 species in different colors?\n",
        "# make sure to label your axes and add a title 🎨\n",
        "\n",
        "\n",
        "\n",
        "\n",
        "\n",
        "\n"
      ]
    },
    {
      "cell_type": "code",
      "execution_count": null,
      "metadata": {
        "id": "af1CNUGJrkH_"
      },
      "outputs": [],
      "source": [
        "# challenge: create a bar chart, with (at least) 2 variables of your choice\n",
        "# (how will you get the counts for the y-axis?)\n",
        "# make sure to label your axes and add a title 🎨\n",
        "\n",
        "\n",
        "\n",
        "\n",
        "\n",
        "\n",
        "\n",
        "\n",
        "\n",
        "\n",
        "\n"
      ]
    },
    {
      "cell_type": "code",
      "execution_count": null,
      "metadata": {
        "id": "vyK9BpT7sGxP"
      },
      "outputs": [],
      "source": [
        "# if you have more time: annotate some features of your plots\n",
        "# https://matplotlib.org/stable/tutorials/text/annotations.html\n",
        "\n",
        "\n",
        "\n",
        "\n",
        "\n"
      ]
    },
    {
      "cell_type": "markdown",
      "metadata": {
        "id": "blzKvCuOtjFq"
      },
      "source": [
        "## 🪼 when you are finished! submit: 🖇️\n",
        "\n",
        "1. Download this notebook as an `.ipynb` file (File -> Download)\n",
        "2. Go to [this link](https://airtable.com/app6HibgdChLzfvNP/shrYWYvDm5Eviq8bY) and upload the file via the form.\n",
        "3. Then you're done! In-class labs are counted as participation credit.\n",
        "\n"
      ]
    },
    {
      "cell_type": "markdown",
      "metadata": {
        "id": "wp2x3Qhjr-TX"
      },
      "source": [
        "**🧊🐧 citations:**\n",
        "- violin inspiration: https://python-graph-gallery.com/web-ggbetweenstats-with-matplotlib/ Tuo Wang, Tomas Capretto\n",
        "- original dataset and examples: https://allisonhorst.github.io/palmerpenguins/index.html\n",
        "- palmerpenguins python package: https://github.com/mcnakhaee/palmerpenguins\n",
        "- Brian Byrne [notebook](https://colab.research.google.com/drive/1RUzNHKpLCGuik_hpVLfto5bSH_KFaqJb) and [video](https://www.youtube.com/watch?v=qzW-Zx4HIK0)"
      ]
    },
    {
      "cell_type": "code",
      "execution_count": null,
      "metadata": {
        "id": "RvnJJj_gi7nN"
      },
      "outputs": [],
      "source": []
    }
  ],
  "metadata": {
    "colab": {
      "provenance": []
    },
    "kernelspec": {
      "display_name": "Python 3 (ipykernel)",
      "language": "python",
      "name": "python3"
    },
    "language_info": {
      "codemirror_mode": {
        "name": "ipython",
        "version": 3
      },
      "file_extension": ".py",
      "mimetype": "text/x-python",
      "name": "python",
      "nbconvert_exporter": "python",
      "pygments_lexer": "ipython3",
      "version": "3.11.0"
    }
  },
  "nbformat": 4,
  "nbformat_minor": 0
}